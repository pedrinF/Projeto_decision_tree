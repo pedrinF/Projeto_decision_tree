{
 "cells": [
  {
   "cell_type": "markdown",
   "metadata": {
    "id": "16NzIswwDUtJ"
   },
   "source": [
    "# 01 - Instalando K-Modes"
   ]
  },
  {
   "cell_type": "code",
   "execution_count": 11,
   "metadata": {
    "colab": {
     "base_uri": "https://localhost:8080/"
    },
    "id": "M0iiBLabR0Zg",
    "outputId": "51a5599f-925d-4f5b-e499-0ac7b9b33476"
   },
   "outputs": [
    {
     "name": "stdout",
     "output_type": "stream",
     "text": [
      "Requirement already satisfied: kmodes in /usr/local/lib/python3.10/dist-packages (0.12.2)\n",
      "Requirement already satisfied: numpy>=1.10.4 in /usr/local/lib/python3.10/dist-packages (from kmodes) (1.25.2)\n",
      "Requirement already satisfied: scikit-learn>=0.22.0 in /usr/local/lib/python3.10/dist-packages (from kmodes) (1.2.2)\n",
      "Requirement already satisfied: scipy>=0.13.3 in /usr/local/lib/python3.10/dist-packages (from kmodes) (1.11.4)\n",
      "Requirement already satisfied: joblib>=0.11 in /usr/local/lib/python3.10/dist-packages (from kmodes) (1.4.2)\n",
      "Requirement already satisfied: threadpoolctl>=2.0.0 in /usr/local/lib/python3.10/dist-packages (from scikit-learn>=0.22.0->kmodes) (3.5.0)\n"
     ]
    }
   ],
   "source": [
    "!pip install kmodes"
   ]
  },
  {
   "cell_type": "markdown",
   "metadata": {
    "id": "vzW0wV8tDa5k"
   },
   "source": [
    "# 02 - Importando bibliotecas"
   ]
  },
  {
   "cell_type": "code",
   "execution_count": 12,
   "metadata": {
    "id": "pLb10fSKR-MU"
   },
   "outputs": [],
   "source": [
    "import pandas as pd\n",
    "import numpy as np\n",
    "from kmodes.kmodes import KModes\n",
    "from sklearn.metrics.cluster import rand_score\n",
    "from sklearn.metrics.cluster import adjusted_rand_score\n",
    "\n",
    "import collections\n",
    "import statistics\n",
    "\n",
    "pd.set_option(\"display.max_rows\", 999)\n",
    "pd.set_option(\"display.max_columns\", 999)"
   ]
  },
  {
   "cell_type": "markdown",
   "metadata": {
    "id": "kbl5rbYcDp3E"
   },
   "source": [
    "# 03 - Métodos e funções (validação e similaridade)"
   ]
  },
  {
   "cell_type": "code",
   "execution_count": 13,
   "metadata": {
    "id": "TlmWPwigLTRS"
   },
   "outputs": [],
   "source": [
    "def overlap(list1, list2):\n",
    "  if len(srag.iloc[1]) == len(srag.iloc[1]):\n",
    "    weight = 1/len(srag.iloc[1])\n",
    "    return (float(sum(x != y for x, y in zip(list1, list2)))*weight)"
   ]
  },
  {
   "cell_type": "code",
   "execution_count": 14,
   "metadata": {
    "id": "3r1vwSWleTvv"
   },
   "outputs": [],
   "source": [
    "def constroi_centroides(dataframe, grupos, features):\n",
    "  # anexa os grupos obtidos pelo KModes ao dataframe\n",
    "  dataframe = dataframe.assign(grupos=grupos)\n",
    "  # cria vetor de centroides que abrigará os centroides\n",
    "  # os centroides serão calculados a partir da moda de um subconjunto de dados.\n",
    "  centroides_ = []\n",
    "  grupos_i = dataframe['grupos'].unique()\n",
    "  # para cada grupo, calcular a moda e criar um atributo \"grupo\"\n",
    "  for grupo in grupos_i:\n",
    "    datatemp = dataframe.loc[dataframe['grupos'] == grupo][features].mode()\n",
    "    # datatemp['grupos'] = grupo\n",
    "    datatemp = datatemp.assign(grupos=grupo)\n",
    "    # adicionar esta linha com modas como um centroide na lista\n",
    "    centroides_.append(datatemp)\n",
    "  # gerar um dataframe com todo os centroides\n",
    "  centroides = pd.concat(centroides_)\n",
    "  # gerar indices com o numero do grupo e excluindo o atributo grupo.\n",
    "  centroides = centroides.set_index([grupos_i])\n",
    "  centroides = centroides.drop(columns=['grupos'])\n",
    "  # retornando resultado\n",
    "  return centroides"
   ]
  },
  {
   "cell_type": "code",
   "execution_count": 15,
   "metadata": {
    "id": "W6Er1OR6zBtj"
   },
   "outputs": [],
   "source": [
    "def calcula_distancia_ahmad(dict1_registro, dict2_grupo):\n",
    "  # Estabelecendo pesos para cada atributo\n",
    "  weight = 1.0/len(dict1_registro)\n",
    "  # iniciando vetor com distancias para somatorio\n",
    "  distancias = []\n",
    "  # criando as chaves para consulta em dicionários de distancias\n",
    "  for col in dict1_registro.keys():\n",
    "    valor_registro = \"'{}'\".format(dict1_registro[col])\n",
    "    valor_grupo = \"'{}'\".format(dict2_grupo[col])\n",
    "    # caso valor seja igual, distancia sera 0.0\n",
    "    if valor_registro == valor_grupo:\n",
    "      distancias.append(0.0)\n",
    "    else:\n",
    "      # em caso de valores diferentes, encontrar a chave no dicionário\n",
    "      key = \"[{},{}]\".format(valor_registro, valor_grupo)\n",
    "      # fazendo consulta no dicionario de distancias\n",
    "      distancia = mapa_de_distancias[col]['distances'][key]\n",
    "      # incluindo distancia no vetor\n",
    "      distancias.append(distancia*weight)\n",
    "  # finalizando\n",
    "  return sum(distancias)"
   ]
  },
  {
   "cell_type": "code",
   "execution_count": 16,
   "metadata": {
    "id": "mQKK13Rj3Kvt"
   },
   "outputs": [],
   "source": [
    "def calcula_a_e_b(registro_agrupado, dado_agrupado, centroides, features):\n",
    "  # inicia vetor de distancias\n",
    "  distancias = []\n",
    "  # verifica grupo ao qual o registro pertence\n",
    "  grupo_registro = registro_agrupado['grupos']\n",
    "  # considerando as features, transforma o registro em dicionários\n",
    "  registro_ = registro_agrupado[features].to_dict()\n",
    "  # verifica id do grupo do registro e transforma ele em dict\n",
    "  grupo = centroides.iloc[int(grupo_registro)].to_dict()\n",
    "  # inicia vetor de distancias entre registro e\n",
    "  # centroides de outros grupos\n",
    "  b = []\n",
    "  # verificando se registro e centroides tem os mesmos atributos\n",
    "\n",
    "  # precorrendo os centroides\n",
    "  for id_centroide in centroides.index:\n",
    "    if collections.Counter(registro_.keys()) == collections.Counter(grupo.keys()):\n",
    "      # se o centroide for o mesmo do registro, calcular \"a\"\n",
    "      # a = distancia entre o registro e o centroide que o representa\n",
    "      if id_centroide == grupo_registro:\n",
    "        a = calcula_distancia_ahmad(registro_, grupo)\n",
    "      # senao, calcular \"b\"\n",
    "      # b = distancia entre registro e demais centroides\n",
    "      else:\n",
    "        # verificar os valores do centroide de outro grupo e transformando em dict\n",
    "        grupo_ = centroides.iloc[int(id_centroide)].to_dict()\n",
    "        # incrementa vetor de distancias \"b\"\n",
    "        b.append(calcula_distancia_ahmad(registro_, grupo_))\n",
    "    else:\n",
    "      print(\"Dados com dimensões diferentes:\\n{}\\{}\".format(registro_, grupo))\n",
    "      return None\n",
    "  # retornar valor\n",
    "  return a, min(b), grupo_registro"
   ]
  },
  {
   "cell_type": "code",
   "execution_count": 17,
   "metadata": {
    "id": "LtQIdwsL6DSE"
   },
   "outputs": [],
   "source": [
    "def calcula_sw(dado_agrupado, centroides, features):\n",
    "  # define dicionario para coletar a silhueta em cada registro\n",
    "  dicionario_sw = {}\n",
    "  sw_ = []\n",
    "  for id_centroide in centroides.index:\n",
    "    dicionario_sw[id_centroide] = {}\n",
    "  # percorrendo os dados\n",
    "  for id, registro_agrupado in dado_agrupado.iterrows():\n",
    "    # calculando a metricas a (distancia com centroide do grupo) e\n",
    "    # b (distancia minima com centroide de outros grupos)\n",
    "    a, b, grupo = calcula_a_e_b(registro_agrupado, dado_agrupado, centroides, features)\n",
    "    # calculando silhueta\n",
    "    sw = (b - a)/max(a, b)\n",
    "    # incluindo sw no dicionario\n",
    "    dicionario_sw[grupo][id] = sw\n",
    "    sw_.append(sw)\n",
    "  # calculando silhueta media\n",
    "  S = statistics.mean(sw_)\n",
    "  return dicionario_sw, S"
   ]
  },
  {
   "cell_type": "code",
   "execution_count": 18,
   "metadata": {
    "id": "iPYjk_wWN6qY"
   },
   "outputs": [],
   "source": [
    "# Complexidade quadrática impede execução.\n",
    "# Numa base como esta, com 189893 registros,\n",
    "# a estrutura (n de linhas e colunas, Nxp) resultante\n",
    "# seria de 189893 x 189893, 36.059.351.449 pontos de dados.\n",
    "# def matriz_dissimilaridade(data):\n",
    "#   df_cartesiano = {}\n",
    "#   for id_i in data.index:\n",
    "#     df_cartesiano[id_i] = []\n",
    "#     for id_j in data.index:\n",
    "#       record_i = data.iloc[id_i]\n",
    "#       record_j = data.iloc[id_j]\n",
    "#       df_cartesiano[id_i].append(overlap(record_i, record_j))\n",
    "#   return df_cartesiano\n",
    "\n",
    "# matriz = matriz_dissimilaridade(srag_)"
   ]
  },
  {
   "cell_type": "markdown",
   "metadata": {
    "id": "d1iP1LFnDeBE"
   },
   "source": [
    "# 04 - Lendo base de dados"
   ]
  },
  {
   "cell_type": "code",
   "execution_count": 19,
   "metadata": {
    "colab": {
     "base_uri": "https://localhost:8080/",
     "height": 226
    },
    "id": "96hRlC5iR_m2",
    "outputId": "db4093ea-f8c1-4bc4-e18b-a18c85d223f8"
   },
   "outputs": [
    {
     "data": {
      "application/vnd.google.colaboratory.intrinsic+json": {
       "type": "dataframe",
       "variable_name": "srag"
      },
      "text/html": [
       "\n",
       "  <div id=\"df-78aa9f80-9159-4e20-91e5-17d3926013f0\" class=\"colab-df-container\">\n",
       "    <div>\n",
       "<style scoped>\n",
       "    .dataframe tbody tr th:only-of-type {\n",
       "        vertical-align: middle;\n",
       "    }\n",
       "\n",
       "    .dataframe tbody tr th {\n",
       "        vertical-align: top;\n",
       "    }\n",
       "\n",
       "    .dataframe thead th {\n",
       "        text-align: right;\n",
       "    }\n",
       "</style>\n",
       "<table border=\"1\" class=\"dataframe\">\n",
       "  <thead>\n",
       "    <tr style=\"text-align: right;\">\n",
       "      <th></th>\n",
       "      <th>PERD_OLFT</th>\n",
       "      <th>PERD_PALA</th>\n",
       "      <th>FEBRE</th>\n",
       "      <th>DISPINEIA</th>\n",
       "      <th>SATURACAO</th>\n",
       "      <th>FADIGA</th>\n",
       "      <th>SUPORT_VEN</th>\n",
       "      <th>RAIOX_RES</th>\n",
       "      <th>TOSSE</th>\n",
       "      <th>TOMO_RES</th>\n",
       "      <th>UTI</th>\n",
       "      <th>GARGANTA</th>\n",
       "      <th>CS_SEXO</th>\n",
       "      <th>DIST_PRI_INTERN</th>\n",
       "      <th>TEMPO_UTI</th>\n",
       "      <th>POSSUI_MORBIDADE</th>\n",
       "      <th>FAIXA_ETARIA</th>\n",
       "      <th>FAIXA_ETARIA_2</th>\n",
       "      <th>IMAGEM_RES</th>\n",
       "      <th>VACINAS</th>\n",
       "      <th>ANO</th>\n",
       "      <th>POSSIVEL_VARIANTE</th>\n",
       "      <th>EVOLUCAO</th>\n",
       "      <th>CRITERIO</th>\n",
       "      <th>CLASSI_FIN</th>\n",
       "      <th>id</th>\n",
       "    </tr>\n",
       "  </thead>\n",
       "  <tbody>\n",
       "    <tr>\n",
       "      <th>0</th>\n",
       "      <td>9.0</td>\n",
       "      <td>9.0</td>\n",
       "      <td>1.0</td>\n",
       "      <td>9.0</td>\n",
       "      <td>2.0</td>\n",
       "      <td>9.0</td>\n",
       "      <td>3.0</td>\n",
       "      <td>2.0</td>\n",
       "      <td>2.0</td>\n",
       "      <td>1.0</td>\n",
       "      <td>1.0</td>\n",
       "      <td>2.0</td>\n",
       "      <td>2.0</td>\n",
       "      <td>1.0</td>\n",
       "      <td>9.0</td>\n",
       "      <td>2.0</td>\n",
       "      <td>11.0</td>\n",
       "      <td>3.0</td>\n",
       "      <td>2.0</td>\n",
       "      <td>0.0</td>\n",
       "      <td>2020.0</td>\n",
       "      <td>1.0</td>\n",
       "      <td>9.0</td>\n",
       "      <td>4.0</td>\n",
       "      <td>5.0</td>\n",
       "      <td>206158430208</td>\n",
       "    </tr>\n",
       "    <tr>\n",
       "      <th>1</th>\n",
       "      <td>9.0</td>\n",
       "      <td>9.0</td>\n",
       "      <td>9.0</td>\n",
       "      <td>9.0</td>\n",
       "      <td>9.0</td>\n",
       "      <td>9.0</td>\n",
       "      <td>3.0</td>\n",
       "      <td>5.0</td>\n",
       "      <td>9.0</td>\n",
       "      <td>9.0</td>\n",
       "      <td>1.0</td>\n",
       "      <td>9.0</td>\n",
       "      <td>2.0</td>\n",
       "      <td>1.0</td>\n",
       "      <td>9.0</td>\n",
       "      <td>2.0</td>\n",
       "      <td>2.0</td>\n",
       "      <td>3.0</td>\n",
       "      <td>3.0</td>\n",
       "      <td>0.0</td>\n",
       "      <td>2020.0</td>\n",
       "      <td>1.0</td>\n",
       "      <td>9.0</td>\n",
       "      <td>4.0</td>\n",
       "      <td>5.0</td>\n",
       "      <td>206158430209</td>\n",
       "    </tr>\n",
       "    <tr>\n",
       "      <th>2</th>\n",
       "      <td>9.0</td>\n",
       "      <td>9.0</td>\n",
       "      <td>1.0</td>\n",
       "      <td>9.0</td>\n",
       "      <td>1.0</td>\n",
       "      <td>9.0</td>\n",
       "      <td>2.0</td>\n",
       "      <td>9.0</td>\n",
       "      <td>1.0</td>\n",
       "      <td>9.0</td>\n",
       "      <td>1.0</td>\n",
       "      <td>9.0</td>\n",
       "      <td>2.0</td>\n",
       "      <td>1.0</td>\n",
       "      <td>9.0</td>\n",
       "      <td>2.0</td>\n",
       "      <td>11.0</td>\n",
       "      <td>3.0</td>\n",
       "      <td>0.0</td>\n",
       "      <td>0.0</td>\n",
       "      <td>2020.0</td>\n",
       "      <td>1.0</td>\n",
       "      <td>2.0</td>\n",
       "      <td>3.0</td>\n",
       "      <td>5.0</td>\n",
       "      <td>206158430210</td>\n",
       "    </tr>\n",
       "    <tr>\n",
       "      <th>3</th>\n",
       "      <td>9.0</td>\n",
       "      <td>9.0</td>\n",
       "      <td>1.0</td>\n",
       "      <td>9.0</td>\n",
       "      <td>1.0</td>\n",
       "      <td>1.0</td>\n",
       "      <td>2.0</td>\n",
       "      <td>2.0</td>\n",
       "      <td>1.0</td>\n",
       "      <td>1.0</td>\n",
       "      <td>1.0</td>\n",
       "      <td>1.0</td>\n",
       "      <td>2.0</td>\n",
       "      <td>2.0</td>\n",
       "      <td>1.0</td>\n",
       "      <td>2.0</td>\n",
       "      <td>8.0</td>\n",
       "      <td>2.0</td>\n",
       "      <td>2.0</td>\n",
       "      <td>0.0</td>\n",
       "      <td>2020.0</td>\n",
       "      <td>1.0</td>\n",
       "      <td>1.0</td>\n",
       "      <td>4.0</td>\n",
       "      <td>5.0</td>\n",
       "      <td>206158430211</td>\n",
       "    </tr>\n",
       "    <tr>\n",
       "      <th>4</th>\n",
       "      <td>9.0</td>\n",
       "      <td>9.0</td>\n",
       "      <td>1.0</td>\n",
       "      <td>9.0</td>\n",
       "      <td>2.0</td>\n",
       "      <td>9.0</td>\n",
       "      <td>3.0</td>\n",
       "      <td>2.0</td>\n",
       "      <td>1.0</td>\n",
       "      <td>9.0</td>\n",
       "      <td>2.0</td>\n",
       "      <td>1.0</td>\n",
       "      <td>2.0</td>\n",
       "      <td>1.0</td>\n",
       "      <td>9.0</td>\n",
       "      <td>0.0</td>\n",
       "      <td>6.0</td>\n",
       "      <td>2.0</td>\n",
       "      <td>0.0</td>\n",
       "      <td>0.0</td>\n",
       "      <td>2020.0</td>\n",
       "      <td>1.0</td>\n",
       "      <td>1.0</td>\n",
       "      <td>3.0</td>\n",
       "      <td>5.0</td>\n",
       "      <td>206158430212</td>\n",
       "    </tr>\n",
       "  </tbody>\n",
       "</table>\n",
       "</div>\n",
       "    <div class=\"colab-df-buttons\">\n",
       "\n",
       "  <div class=\"colab-df-container\">\n",
       "    <button class=\"colab-df-convert\" onclick=\"convertToInteractive('df-78aa9f80-9159-4e20-91e5-17d3926013f0')\"\n",
       "            title=\"Convert this dataframe to an interactive table.\"\n",
       "            style=\"display:none;\">\n",
       "\n",
       "  <svg xmlns=\"http://www.w3.org/2000/svg\" height=\"24px\" viewBox=\"0 -960 960 960\">\n",
       "    <path d=\"M120-120v-720h720v720H120Zm60-500h600v-160H180v160Zm220 220h160v-160H400v160Zm0 220h160v-160H400v160ZM180-400h160v-160H180v160Zm440 0h160v-160H620v160ZM180-180h160v-160H180v160Zm440 0h160v-160H620v160Z\"/>\n",
       "  </svg>\n",
       "    </button>\n",
       "\n",
       "  <style>\n",
       "    .colab-df-container {\n",
       "      display:flex;\n",
       "      gap: 12px;\n",
       "    }\n",
       "\n",
       "    .colab-df-convert {\n",
       "      background-color: #E8F0FE;\n",
       "      border: none;\n",
       "      border-radius: 50%;\n",
       "      cursor: pointer;\n",
       "      display: none;\n",
       "      fill: #1967D2;\n",
       "      height: 32px;\n",
       "      padding: 0 0 0 0;\n",
       "      width: 32px;\n",
       "    }\n",
       "\n",
       "    .colab-df-convert:hover {\n",
       "      background-color: #E2EBFA;\n",
       "      box-shadow: 0px 1px 2px rgba(60, 64, 67, 0.3), 0px 1px 3px 1px rgba(60, 64, 67, 0.15);\n",
       "      fill: #174EA6;\n",
       "    }\n",
       "\n",
       "    .colab-df-buttons div {\n",
       "      margin-bottom: 4px;\n",
       "    }\n",
       "\n",
       "    [theme=dark] .colab-df-convert {\n",
       "      background-color: #3B4455;\n",
       "      fill: #D2E3FC;\n",
       "    }\n",
       "\n",
       "    [theme=dark] .colab-df-convert:hover {\n",
       "      background-color: #434B5C;\n",
       "      box-shadow: 0px 1px 3px 1px rgba(0, 0, 0, 0.15);\n",
       "      filter: drop-shadow(0px 1px 2px rgba(0, 0, 0, 0.3));\n",
       "      fill: #FFFFFF;\n",
       "    }\n",
       "  </style>\n",
       "\n",
       "    <script>\n",
       "      const buttonEl =\n",
       "        document.querySelector('#df-78aa9f80-9159-4e20-91e5-17d3926013f0 button.colab-df-convert');\n",
       "      buttonEl.style.display =\n",
       "        google.colab.kernel.accessAllowed ? 'block' : 'none';\n",
       "\n",
       "      async function convertToInteractive(key) {\n",
       "        const element = document.querySelector('#df-78aa9f80-9159-4e20-91e5-17d3926013f0');\n",
       "        const dataTable =\n",
       "          await google.colab.kernel.invokeFunction('convertToInteractive',\n",
       "                                                    [key], {});\n",
       "        if (!dataTable) return;\n",
       "\n",
       "        const docLinkHtml = 'Like what you see? Visit the ' +\n",
       "          '<a target=\"_blank\" href=https://colab.research.google.com/notebooks/data_table.ipynb>data table notebook</a>'\n",
       "          + ' to learn more about interactive tables.';\n",
       "        element.innerHTML = '';\n",
       "        dataTable['output_type'] = 'display_data';\n",
       "        await google.colab.output.renderOutput(dataTable, element);\n",
       "        const docLink = document.createElement('div');\n",
       "        docLink.innerHTML = docLinkHtml;\n",
       "        element.appendChild(docLink);\n",
       "      }\n",
       "    </script>\n",
       "  </div>\n",
       "\n",
       "\n",
       "<div id=\"df-57e14495-b61e-4d08-a6c1-531087537841\">\n",
       "  <button class=\"colab-df-quickchart\" onclick=\"quickchart('df-57e14495-b61e-4d08-a6c1-531087537841')\"\n",
       "            title=\"Suggest charts\"\n",
       "            style=\"display:none;\">\n",
       "\n",
       "<svg xmlns=\"http://www.w3.org/2000/svg\" height=\"24px\"viewBox=\"0 0 24 24\"\n",
       "     width=\"24px\">\n",
       "    <g>\n",
       "        <path d=\"M19 3H5c-1.1 0-2 .9-2 2v14c0 1.1.9 2 2 2h14c1.1 0 2-.9 2-2V5c0-1.1-.9-2-2-2zM9 17H7v-7h2v7zm4 0h-2V7h2v10zm4 0h-2v-4h2v4z\"/>\n",
       "    </g>\n",
       "</svg>\n",
       "  </button>\n",
       "\n",
       "<style>\n",
       "  .colab-df-quickchart {\n",
       "      --bg-color: #E8F0FE;\n",
       "      --fill-color: #1967D2;\n",
       "      --hover-bg-color: #E2EBFA;\n",
       "      --hover-fill-color: #174EA6;\n",
       "      --disabled-fill-color: #AAA;\n",
       "      --disabled-bg-color: #DDD;\n",
       "  }\n",
       "\n",
       "  [theme=dark] .colab-df-quickchart {\n",
       "      --bg-color: #3B4455;\n",
       "      --fill-color: #D2E3FC;\n",
       "      --hover-bg-color: #434B5C;\n",
       "      --hover-fill-color: #FFFFFF;\n",
       "      --disabled-bg-color: #3B4455;\n",
       "      --disabled-fill-color: #666;\n",
       "  }\n",
       "\n",
       "  .colab-df-quickchart {\n",
       "    background-color: var(--bg-color);\n",
       "    border: none;\n",
       "    border-radius: 50%;\n",
       "    cursor: pointer;\n",
       "    display: none;\n",
       "    fill: var(--fill-color);\n",
       "    height: 32px;\n",
       "    padding: 0;\n",
       "    width: 32px;\n",
       "  }\n",
       "\n",
       "  .colab-df-quickchart:hover {\n",
       "    background-color: var(--hover-bg-color);\n",
       "    box-shadow: 0 1px 2px rgba(60, 64, 67, 0.3), 0 1px 3px 1px rgba(60, 64, 67, 0.15);\n",
       "    fill: var(--button-hover-fill-color);\n",
       "  }\n",
       "\n",
       "  .colab-df-quickchart-complete:disabled,\n",
       "  .colab-df-quickchart-complete:disabled:hover {\n",
       "    background-color: var(--disabled-bg-color);\n",
       "    fill: var(--disabled-fill-color);\n",
       "    box-shadow: none;\n",
       "  }\n",
       "\n",
       "  .colab-df-spinner {\n",
       "    border: 2px solid var(--fill-color);\n",
       "    border-color: transparent;\n",
       "    border-bottom-color: var(--fill-color);\n",
       "    animation:\n",
       "      spin 1s steps(1) infinite;\n",
       "  }\n",
       "\n",
       "  @keyframes spin {\n",
       "    0% {\n",
       "      border-color: transparent;\n",
       "      border-bottom-color: var(--fill-color);\n",
       "      border-left-color: var(--fill-color);\n",
       "    }\n",
       "    20% {\n",
       "      border-color: transparent;\n",
       "      border-left-color: var(--fill-color);\n",
       "      border-top-color: var(--fill-color);\n",
       "    }\n",
       "    30% {\n",
       "      border-color: transparent;\n",
       "      border-left-color: var(--fill-color);\n",
       "      border-top-color: var(--fill-color);\n",
       "      border-right-color: var(--fill-color);\n",
       "    }\n",
       "    40% {\n",
       "      border-color: transparent;\n",
       "      border-right-color: var(--fill-color);\n",
       "      border-top-color: var(--fill-color);\n",
       "    }\n",
       "    60% {\n",
       "      border-color: transparent;\n",
       "      border-right-color: var(--fill-color);\n",
       "    }\n",
       "    80% {\n",
       "      border-color: transparent;\n",
       "      border-right-color: var(--fill-color);\n",
       "      border-bottom-color: var(--fill-color);\n",
       "    }\n",
       "    90% {\n",
       "      border-color: transparent;\n",
       "      border-bottom-color: var(--fill-color);\n",
       "    }\n",
       "  }\n",
       "</style>\n",
       "\n",
       "  <script>\n",
       "    async function quickchart(key) {\n",
       "      const quickchartButtonEl =\n",
       "        document.querySelector('#' + key + ' button');\n",
       "      quickchartButtonEl.disabled = true;  // To prevent multiple clicks.\n",
       "      quickchartButtonEl.classList.add('colab-df-spinner');\n",
       "      try {\n",
       "        const charts = await google.colab.kernel.invokeFunction(\n",
       "            'suggestCharts', [key], {});\n",
       "      } catch (error) {\n",
       "        console.error('Error during call to suggestCharts:', error);\n",
       "      }\n",
       "      quickchartButtonEl.classList.remove('colab-df-spinner');\n",
       "      quickchartButtonEl.classList.add('colab-df-quickchart-complete');\n",
       "    }\n",
       "    (() => {\n",
       "      let quickchartButtonEl =\n",
       "        document.querySelector('#df-57e14495-b61e-4d08-a6c1-531087537841 button');\n",
       "      quickchartButtonEl.style.display =\n",
       "        google.colab.kernel.accessAllowed ? 'block' : 'none';\n",
       "    })();\n",
       "  </script>\n",
       "</div>\n",
       "\n",
       "    </div>\n",
       "  </div>\n"
      ],
      "text/plain": [
       "   PERD_OLFT  PERD_PALA  FEBRE  DISPINEIA  SATURACAO  FADIGA  SUPORT_VEN  \\\n",
       "0        9.0        9.0    1.0        9.0        2.0     9.0         3.0   \n",
       "1        9.0        9.0    9.0        9.0        9.0     9.0         3.0   \n",
       "2        9.0        9.0    1.0        9.0        1.0     9.0         2.0   \n",
       "3        9.0        9.0    1.0        9.0        1.0     1.0         2.0   \n",
       "4        9.0        9.0    1.0        9.0        2.0     9.0         3.0   \n",
       "\n",
       "   RAIOX_RES  TOSSE  TOMO_RES  UTI  GARGANTA  CS_SEXO  DIST_PRI_INTERN  \\\n",
       "0        2.0    2.0       1.0  1.0       2.0      2.0              1.0   \n",
       "1        5.0    9.0       9.0  1.0       9.0      2.0              1.0   \n",
       "2        9.0    1.0       9.0  1.0       9.0      2.0              1.0   \n",
       "3        2.0    1.0       1.0  1.0       1.0      2.0              2.0   \n",
       "4        2.0    1.0       9.0  2.0       1.0      2.0              1.0   \n",
       "\n",
       "   TEMPO_UTI  POSSUI_MORBIDADE  FAIXA_ETARIA  FAIXA_ETARIA_2  IMAGEM_RES  \\\n",
       "0        9.0               2.0          11.0             3.0         2.0   \n",
       "1        9.0               2.0           2.0             3.0         3.0   \n",
       "2        9.0               2.0          11.0             3.0         0.0   \n",
       "3        1.0               2.0           8.0             2.0         2.0   \n",
       "4        9.0               0.0           6.0             2.0         0.0   \n",
       "\n",
       "   VACINAS     ANO  POSSIVEL_VARIANTE  EVOLUCAO  CRITERIO  CLASSI_FIN  \\\n",
       "0      0.0  2020.0                1.0       9.0       4.0         5.0   \n",
       "1      0.0  2020.0                1.0       9.0       4.0         5.0   \n",
       "2      0.0  2020.0                1.0       2.0       3.0         5.0   \n",
       "3      0.0  2020.0                1.0       1.0       4.0         5.0   \n",
       "4      0.0  2020.0                1.0       1.0       3.0         5.0   \n",
       "\n",
       "             id  \n",
       "0  206158430208  \n",
       "1  206158430209  \n",
       "2  206158430210  \n",
       "3  206158430211  \n",
       "4  206158430212  "
      ]
     },
     "execution_count": 19,
     "metadata": {},
     "output_type": "execute_result"
    }
   ],
   "source": [
    "srag = pd.read_csv('/content/drive/MyDrive/srag_dataset_2013_a_2023-attr_set_3.csv')\n",
    "# srag = srag.sample(n = 1000, random_state=2023)\n",
    "srag.head()"
   ]
  },
  {
   "cell_type": "code",
   "execution_count": 10,
   "metadata": {
    "colab": {
     "base_uri": "https://localhost:8080/"
    },
    "id": "IxtNcf9ikgV1",
    "outputId": "7700c301-b1a3-4fdd-c123-de2b58516862"
   },
   "outputs": [
    {
     "name": "stdout",
     "output_type": "stream",
     "text": [
      "Mounted at /content/drive\n"
     ]
    }
   ],
   "source": [
    "from google.colab import drive\n",
    "drive.mount('/content/drive')"
   ]
  },
  {
   "cell_type": "markdown",
   "metadata": {
    "id": "hepxO5IlDmwg"
   },
   "source": [
    "# 05 - Selecionando variáveis"
   ]
  },
  {
   "cell_type": "code",
   "execution_count": 20,
   "metadata": {
    "colab": {
     "base_uri": "https://localhost:8080/"
    },
    "id": "iwcJKyTCD7GM",
    "outputId": "45dba100-f755-44dc-d65d-f3ebf56769d6"
   },
   "outputs": [
    {
     "data": {
      "text/plain": [
       "Index(['PERD_OLFT', 'PERD_PALA', 'FEBRE', 'DISPINEIA', 'SATURACAO', 'FADIGA',\n",
       "       'SUPORT_VEN', 'RAIOX_RES', 'TOSSE', 'TOMO_RES', 'UTI', 'GARGANTA',\n",
       "       'CS_SEXO', 'DIST_PRI_INTERN', 'TEMPO_UTI', 'POSSUI_MORBIDADE',\n",
       "       'FAIXA_ETARIA', 'FAIXA_ETARIA_2', 'IMAGEM_RES', 'VACINAS', 'ANO',\n",
       "       'POSSIVEL_VARIANTE', 'EVOLUCAO', 'CRITERIO', 'CLASSI_FIN', 'id'],\n",
       "      dtype='object')"
      ]
     },
     "execution_count": 20,
     "metadata": {},
     "output_type": "execute_result"
    }
   ],
   "source": [
    "srag.columns"
   ]
  },
  {
   "cell_type": "code",
   "execution_count": 21,
   "metadata": {
    "id": "Xha7ogbTSKGl"
   },
   "outputs": [],
   "source": [
    "features = ['PERD_OLFT','FEBRE','DISPINEIA', 'SATURACAO' , 'FADIGA', 'PERD_PALA', 'SUPORT_VEN', 'RAIOX_RES', 'GARGANTA', 'TOMO_RES', 'FAIXA_ETARIA_2',\n",
    "            'IMAGEM_RES', 'ANO','POSSUI_MORBIDADE', 'EVOLUCAO', 'CLASSI_FIN', 'UTI', 'TEMPO_UTI']"
   ]
  },
  {
   "cell_type": "code",
   "execution_count": 22,
   "metadata": {
    "colab": {
     "base_uri": "https://localhost:8080/",
     "height": 163
    },
    "id": "u5OjycTNEMRi",
    "outputId": "fa4d3aa2-f54c-4f1b-eab4-6ac2fb473747"
   },
   "outputs": [
    {
     "data": {
      "application/vnd.google.colaboratory.intrinsic+json": {
       "type": "dataframe",
       "variable_name": "srag_"
      },
      "text/html": [
       "\n",
       "  <div id=\"df-9e51c3db-0812-4b7d-a816-6caf9d55a698\" class=\"colab-df-container\">\n",
       "    <div>\n",
       "<style scoped>\n",
       "    .dataframe tbody tr th:only-of-type {\n",
       "        vertical-align: middle;\n",
       "    }\n",
       "\n",
       "    .dataframe tbody tr th {\n",
       "        vertical-align: top;\n",
       "    }\n",
       "\n",
       "    .dataframe thead th {\n",
       "        text-align: right;\n",
       "    }\n",
       "</style>\n",
       "<table border=\"1\" class=\"dataframe\">\n",
       "  <thead>\n",
       "    <tr style=\"text-align: right;\">\n",
       "      <th></th>\n",
       "      <th>PERD_OLFT</th>\n",
       "      <th>FEBRE</th>\n",
       "      <th>DISPINEIA</th>\n",
       "      <th>SATURACAO</th>\n",
       "      <th>FADIGA</th>\n",
       "      <th>PERD_PALA</th>\n",
       "      <th>SUPORT_VEN</th>\n",
       "      <th>RAIOX_RES</th>\n",
       "      <th>GARGANTA</th>\n",
       "      <th>TOMO_RES</th>\n",
       "      <th>FAIXA_ETARIA_2</th>\n",
       "      <th>IMAGEM_RES</th>\n",
       "      <th>ANO</th>\n",
       "      <th>POSSUI_MORBIDADE</th>\n",
       "      <th>EVOLUCAO</th>\n",
       "      <th>CLASSI_FIN</th>\n",
       "      <th>UTI</th>\n",
       "      <th>TEMPO_UTI</th>\n",
       "    </tr>\n",
       "  </thead>\n",
       "  <tbody>\n",
       "    <tr>\n",
       "      <th>0</th>\n",
       "      <td>9.0</td>\n",
       "      <td>1.0</td>\n",
       "      <td>9.0</td>\n",
       "      <td>2.0</td>\n",
       "      <td>9.0</td>\n",
       "      <td>9.0</td>\n",
       "      <td>3.0</td>\n",
       "      <td>2.0</td>\n",
       "      <td>2.0</td>\n",
       "      <td>1.0</td>\n",
       "      <td>3.0</td>\n",
       "      <td>2.0</td>\n",
       "      <td>2020.0</td>\n",
       "      <td>2.0</td>\n",
       "      <td>9.0</td>\n",
       "      <td>5.0</td>\n",
       "      <td>1.0</td>\n",
       "      <td>9.0</td>\n",
       "    </tr>\n",
       "    <tr>\n",
       "      <th>1</th>\n",
       "      <td>9.0</td>\n",
       "      <td>9.0</td>\n",
       "      <td>9.0</td>\n",
       "      <td>9.0</td>\n",
       "      <td>9.0</td>\n",
       "      <td>9.0</td>\n",
       "      <td>3.0</td>\n",
       "      <td>5.0</td>\n",
       "      <td>9.0</td>\n",
       "      <td>9.0</td>\n",
       "      <td>3.0</td>\n",
       "      <td>3.0</td>\n",
       "      <td>2020.0</td>\n",
       "      <td>2.0</td>\n",
       "      <td>9.0</td>\n",
       "      <td>5.0</td>\n",
       "      <td>1.0</td>\n",
       "      <td>9.0</td>\n",
       "    </tr>\n",
       "    <tr>\n",
       "      <th>2</th>\n",
       "      <td>9.0</td>\n",
       "      <td>1.0</td>\n",
       "      <td>9.0</td>\n",
       "      <td>1.0</td>\n",
       "      <td>9.0</td>\n",
       "      <td>9.0</td>\n",
       "      <td>2.0</td>\n",
       "      <td>9.0</td>\n",
       "      <td>9.0</td>\n",
       "      <td>9.0</td>\n",
       "      <td>3.0</td>\n",
       "      <td>0.0</td>\n",
       "      <td>2020.0</td>\n",
       "      <td>2.0</td>\n",
       "      <td>2.0</td>\n",
       "      <td>5.0</td>\n",
       "      <td>1.0</td>\n",
       "      <td>9.0</td>\n",
       "    </tr>\n",
       "  </tbody>\n",
       "</table>\n",
       "</div>\n",
       "    <div class=\"colab-df-buttons\">\n",
       "\n",
       "  <div class=\"colab-df-container\">\n",
       "    <button class=\"colab-df-convert\" onclick=\"convertToInteractive('df-9e51c3db-0812-4b7d-a816-6caf9d55a698')\"\n",
       "            title=\"Convert this dataframe to an interactive table.\"\n",
       "            style=\"display:none;\">\n",
       "\n",
       "  <svg xmlns=\"http://www.w3.org/2000/svg\" height=\"24px\" viewBox=\"0 -960 960 960\">\n",
       "    <path d=\"M120-120v-720h720v720H120Zm60-500h600v-160H180v160Zm220 220h160v-160H400v160Zm0 220h160v-160H400v160ZM180-400h160v-160H180v160Zm440 0h160v-160H620v160ZM180-180h160v-160H180v160Zm440 0h160v-160H620v160Z\"/>\n",
       "  </svg>\n",
       "    </button>\n",
       "\n",
       "  <style>\n",
       "    .colab-df-container {\n",
       "      display:flex;\n",
       "      gap: 12px;\n",
       "    }\n",
       "\n",
       "    .colab-df-convert {\n",
       "      background-color: #E8F0FE;\n",
       "      border: none;\n",
       "      border-radius: 50%;\n",
       "      cursor: pointer;\n",
       "      display: none;\n",
       "      fill: #1967D2;\n",
       "      height: 32px;\n",
       "      padding: 0 0 0 0;\n",
       "      width: 32px;\n",
       "    }\n",
       "\n",
       "    .colab-df-convert:hover {\n",
       "      background-color: #E2EBFA;\n",
       "      box-shadow: 0px 1px 2px rgba(60, 64, 67, 0.3), 0px 1px 3px 1px rgba(60, 64, 67, 0.15);\n",
       "      fill: #174EA6;\n",
       "    }\n",
       "\n",
       "    .colab-df-buttons div {\n",
       "      margin-bottom: 4px;\n",
       "    }\n",
       "\n",
       "    [theme=dark] .colab-df-convert {\n",
       "      background-color: #3B4455;\n",
       "      fill: #D2E3FC;\n",
       "    }\n",
       "\n",
       "    [theme=dark] .colab-df-convert:hover {\n",
       "      background-color: #434B5C;\n",
       "      box-shadow: 0px 1px 3px 1px rgba(0, 0, 0, 0.15);\n",
       "      filter: drop-shadow(0px 1px 2px rgba(0, 0, 0, 0.3));\n",
       "      fill: #FFFFFF;\n",
       "    }\n",
       "  </style>\n",
       "\n",
       "    <script>\n",
       "      const buttonEl =\n",
       "        document.querySelector('#df-9e51c3db-0812-4b7d-a816-6caf9d55a698 button.colab-df-convert');\n",
       "      buttonEl.style.display =\n",
       "        google.colab.kernel.accessAllowed ? 'block' : 'none';\n",
       "\n",
       "      async function convertToInteractive(key) {\n",
       "        const element = document.querySelector('#df-9e51c3db-0812-4b7d-a816-6caf9d55a698');\n",
       "        const dataTable =\n",
       "          await google.colab.kernel.invokeFunction('convertToInteractive',\n",
       "                                                    [key], {});\n",
       "        if (!dataTable) return;\n",
       "\n",
       "        const docLinkHtml = 'Like what you see? Visit the ' +\n",
       "          '<a target=\"_blank\" href=https://colab.research.google.com/notebooks/data_table.ipynb>data table notebook</a>'\n",
       "          + ' to learn more about interactive tables.';\n",
       "        element.innerHTML = '';\n",
       "        dataTable['output_type'] = 'display_data';\n",
       "        await google.colab.output.renderOutput(dataTable, element);\n",
       "        const docLink = document.createElement('div');\n",
       "        docLink.innerHTML = docLinkHtml;\n",
       "        element.appendChild(docLink);\n",
       "      }\n",
       "    </script>\n",
       "  </div>\n",
       "\n",
       "\n",
       "<div id=\"df-4d452254-886f-446d-85b6-071d54adc4a5\">\n",
       "  <button class=\"colab-df-quickchart\" onclick=\"quickchart('df-4d452254-886f-446d-85b6-071d54adc4a5')\"\n",
       "            title=\"Suggest charts\"\n",
       "            style=\"display:none;\">\n",
       "\n",
       "<svg xmlns=\"http://www.w3.org/2000/svg\" height=\"24px\"viewBox=\"0 0 24 24\"\n",
       "     width=\"24px\">\n",
       "    <g>\n",
       "        <path d=\"M19 3H5c-1.1 0-2 .9-2 2v14c0 1.1.9 2 2 2h14c1.1 0 2-.9 2-2V5c0-1.1-.9-2-2-2zM9 17H7v-7h2v7zm4 0h-2V7h2v10zm4 0h-2v-4h2v4z\"/>\n",
       "    </g>\n",
       "</svg>\n",
       "  </button>\n",
       "\n",
       "<style>\n",
       "  .colab-df-quickchart {\n",
       "      --bg-color: #E8F0FE;\n",
       "      --fill-color: #1967D2;\n",
       "      --hover-bg-color: #E2EBFA;\n",
       "      --hover-fill-color: #174EA6;\n",
       "      --disabled-fill-color: #AAA;\n",
       "      --disabled-bg-color: #DDD;\n",
       "  }\n",
       "\n",
       "  [theme=dark] .colab-df-quickchart {\n",
       "      --bg-color: #3B4455;\n",
       "      --fill-color: #D2E3FC;\n",
       "      --hover-bg-color: #434B5C;\n",
       "      --hover-fill-color: #FFFFFF;\n",
       "      --disabled-bg-color: #3B4455;\n",
       "      --disabled-fill-color: #666;\n",
       "  }\n",
       "\n",
       "  .colab-df-quickchart {\n",
       "    background-color: var(--bg-color);\n",
       "    border: none;\n",
       "    border-radius: 50%;\n",
       "    cursor: pointer;\n",
       "    display: none;\n",
       "    fill: var(--fill-color);\n",
       "    height: 32px;\n",
       "    padding: 0;\n",
       "    width: 32px;\n",
       "  }\n",
       "\n",
       "  .colab-df-quickchart:hover {\n",
       "    background-color: var(--hover-bg-color);\n",
       "    box-shadow: 0 1px 2px rgba(60, 64, 67, 0.3), 0 1px 3px 1px rgba(60, 64, 67, 0.15);\n",
       "    fill: var(--button-hover-fill-color);\n",
       "  }\n",
       "\n",
       "  .colab-df-quickchart-complete:disabled,\n",
       "  .colab-df-quickchart-complete:disabled:hover {\n",
       "    background-color: var(--disabled-bg-color);\n",
       "    fill: var(--disabled-fill-color);\n",
       "    box-shadow: none;\n",
       "  }\n",
       "\n",
       "  .colab-df-spinner {\n",
       "    border: 2px solid var(--fill-color);\n",
       "    border-color: transparent;\n",
       "    border-bottom-color: var(--fill-color);\n",
       "    animation:\n",
       "      spin 1s steps(1) infinite;\n",
       "  }\n",
       "\n",
       "  @keyframes spin {\n",
       "    0% {\n",
       "      border-color: transparent;\n",
       "      border-bottom-color: var(--fill-color);\n",
       "      border-left-color: var(--fill-color);\n",
       "    }\n",
       "    20% {\n",
       "      border-color: transparent;\n",
       "      border-left-color: var(--fill-color);\n",
       "      border-top-color: var(--fill-color);\n",
       "    }\n",
       "    30% {\n",
       "      border-color: transparent;\n",
       "      border-left-color: var(--fill-color);\n",
       "      border-top-color: var(--fill-color);\n",
       "      border-right-color: var(--fill-color);\n",
       "    }\n",
       "    40% {\n",
       "      border-color: transparent;\n",
       "      border-right-color: var(--fill-color);\n",
       "      border-top-color: var(--fill-color);\n",
       "    }\n",
       "    60% {\n",
       "      border-color: transparent;\n",
       "      border-right-color: var(--fill-color);\n",
       "    }\n",
       "    80% {\n",
       "      border-color: transparent;\n",
       "      border-right-color: var(--fill-color);\n",
       "      border-bottom-color: var(--fill-color);\n",
       "    }\n",
       "    90% {\n",
       "      border-color: transparent;\n",
       "      border-bottom-color: var(--fill-color);\n",
       "    }\n",
       "  }\n",
       "</style>\n",
       "\n",
       "  <script>\n",
       "    async function quickchart(key) {\n",
       "      const quickchartButtonEl =\n",
       "        document.querySelector('#' + key + ' button');\n",
       "      quickchartButtonEl.disabled = true;  // To prevent multiple clicks.\n",
       "      quickchartButtonEl.classList.add('colab-df-spinner');\n",
       "      try {\n",
       "        const charts = await google.colab.kernel.invokeFunction(\n",
       "            'suggestCharts', [key], {});\n",
       "      } catch (error) {\n",
       "        console.error('Error during call to suggestCharts:', error);\n",
       "      }\n",
       "      quickchartButtonEl.classList.remove('colab-df-spinner');\n",
       "      quickchartButtonEl.classList.add('colab-df-quickchart-complete');\n",
       "    }\n",
       "    (() => {\n",
       "      let quickchartButtonEl =\n",
       "        document.querySelector('#df-4d452254-886f-446d-85b6-071d54adc4a5 button');\n",
       "      quickchartButtonEl.style.display =\n",
       "        google.colab.kernel.accessAllowed ? 'block' : 'none';\n",
       "    })();\n",
       "  </script>\n",
       "</div>\n",
       "\n",
       "    </div>\n",
       "  </div>\n"
      ],
      "text/plain": [
       "   PERD_OLFT  FEBRE  DISPINEIA  SATURACAO  FADIGA  PERD_PALA  SUPORT_VEN  \\\n",
       "0        9.0    1.0        9.0        2.0     9.0        9.0         3.0   \n",
       "1        9.0    9.0        9.0        9.0     9.0        9.0         3.0   \n",
       "2        9.0    1.0        9.0        1.0     9.0        9.0         2.0   \n",
       "\n",
       "   RAIOX_RES  GARGANTA  TOMO_RES  FAIXA_ETARIA_2  IMAGEM_RES     ANO  \\\n",
       "0        2.0       2.0       1.0             3.0         2.0  2020.0   \n",
       "1        5.0       9.0       9.0             3.0         3.0  2020.0   \n",
       "2        9.0       9.0       9.0             3.0         0.0  2020.0   \n",
       "\n",
       "   POSSUI_MORBIDADE  EVOLUCAO  CLASSI_FIN  UTI  TEMPO_UTI  \n",
       "0               2.0       9.0         5.0  1.0        9.0  \n",
       "1               2.0       9.0         5.0  1.0        9.0  \n",
       "2               2.0       2.0         5.0  1.0        9.0  "
      ]
     },
     "execution_count": 22,
     "metadata": {},
     "output_type": "execute_result"
    }
   ],
   "source": [
    "srag_ = srag[features]\n",
    "srag_.head(3)"
   ]
  },
  {
   "cell_type": "markdown",
   "metadata": {
    "id": "JaAVSL4AFctw"
   },
   "source": [
    "# 06 - Executando modelo"
   ]
  },
  {
   "cell_type": "code",
   "execution_count": 23,
   "metadata": {
    "id": "UiDtcqG4Glv2"
   },
   "outputs": [],
   "source": [
    "# KModes?"
   ]
  },
  {
   "cell_type": "code",
   "execution_count": 24,
   "metadata": {
    "id": "1ye2_7SiEMNZ"
   },
   "outputs": [],
   "source": [
    "km = KModes(n_clusters=3, init='Huang', n_init=1, max_iter=5, n_jobs=-1, verbose=1)"
   ]
  },
  {
   "cell_type": "code",
   "execution_count": null,
   "metadata": {
    "id": "PHEdq5x2EMJ-"
   },
   "outputs": [],
   "source": [
    "clusters = km.fit_predict(srag_)"
   ]
  },
  {
   "cell_type": "code",
   "execution_count": null,
   "metadata": {
    "id": "4U7zVcqSGLZn"
   },
   "outputs": [],
   "source": [
    "collections.Counter(clusters)"
   ]
  },
  {
   "cell_type": "markdown",
   "metadata": {
    "id": "DioXL8KlJci9"
   },
   "source": [
    "# 07 - Validando modelo (critério externo)"
   ]
  },
  {
   "cell_type": "markdown",
   "metadata": {
    "id": "pJCD4ac378d-"
   },
   "source": [
    "## Critério Externo (Rand Index)"
   ]
  },
  {
   "cell_type": "code",
   "execution_count": null,
   "metadata": {
    "id": "3HQaZpA4EL32"
   },
   "outputs": [],
   "source": [
    "rand_score(srag['POSSIVEL_VARIANTE'], clusters)"
   ]
  },
  {
   "cell_type": "markdown",
   "metadata": {
    "id": "pZTEwUqv8Bj-"
   },
   "source": [
    "## Critério relativo (Silhueta)"
   ]
  },
  {
   "cell_type": "code",
   "execution_count": null,
   "metadata": {
    "id": "28L21uus8FLM"
   },
   "outputs": [],
   "source": [
    "import json\n",
    "f = open('/content/drive/MyDrive/srag_2013_a_2023_dataset-attr_set_3-ahmad-distance-matrix.json.csv')\n",
    "mapa_de_distancias = json.load(f)"
   ]
  },
  {
   "cell_type": "code",
   "execution_count": null,
   "metadata": {
    "id": "syelWnyE8iSa"
   },
   "outputs": [],
   "source": [
    "# mapa_de_distancias"
   ]
  },
  {
   "cell_type": "code",
   "execution_count": null,
   "metadata": {
    "id": "BKvgKNvUpraH"
   },
   "outputs": [],
   "source": [
    "srag_predicted = srag[features]\n",
    "# clusters_ = pd.Series(clusters)\n",
    "srag_predicted = srag_predicted.assign(grupos=clusters)\n",
    "# srag_predicted.insert(loc=, column='grupos', value=clusters_)\n",
    "# srag_predicted['grupos'] = clusters\n",
    "srag_predicted.head(2)"
   ]
  },
  {
   "cell_type": "code",
   "execution_count": null,
   "metadata": {
    "id": "nHfogNVXn3_i"
   },
   "outputs": [],
   "source": [
    "centroides = constroi_centroides(srag[features], clusters, features)\n",
    "centroides"
   ]
  },
  {
   "cell_type": "code",
   "execution_count": null,
   "metadata": {
    "id": "chtzLxin8e-9"
   },
   "outputs": [],
   "source": [
    "sw = calcula_sw(srag_predicted, centroides, features)\n",
    "sw_pd = pd.concat({k: pd.DataFrame.from_dict(v, 'index') for k, v in sw[0].items()}, axis=0).reset_index().rename(columns={'level_0': 'grupo', 'level_1': 'id_registro', 0: 'silhueta'})\n",
    "\n",
    "print(\"Silhueta media: {}\".format(sw[1]))"
   ]
  },
  {
   "cell_type": "code",
   "execution_count": null,
   "metadata": {
    "id": "0DMcQpIDN46s"
   },
   "outputs": [],
   "source": [
    "sw_pd"
   ]
  },
  {
   "cell_type": "code",
   "execution_count": null,
   "metadata": {
    "id": "piSf_5B_EynZ"
   },
   "outputs": [],
   "source": [
    "import matplotlib.pyplot as plt\n",
    "import numpy as np\n",
    "\n",
    "figure, axis = plt.subplots(3)\n",
    "\n",
    "figure.suptitle('Silhueta Kmodes - SRAG', fontsize=8)\n",
    "figure.supxlabel('sw', fontsize=8)\n",
    "figure.supylabel('Registros agrupados', fontsize=8)\n",
    "\n",
    "plt.rcParams[\"figure.figsize\"] = [4.0, 7.50]\n",
    "plt.rcParams[\"figure.autolayout\"] = True\n",
    "\n",
    "# cluster 0\n",
    "# create dataset\n",
    "data1 = sw_pd.loc[sw_pd['grupo'] == 0].sort_values(by=['silhueta'])\n",
    "height1 = data1['silhueta']\n",
    "bars1 = data1['id_registro']\n",
    "y_pos1 = np.arange(len(bars1))\n",
    "# Create horizontal bars\n",
    "axis[0].set_title('cluster 0', fontsize=4)\n",
    "axis[0].axis(xmin=-1,xmax=1)\n",
    "axis[0].barh(y_pos1, height1)\n",
    "axis[0].plot()\n",
    "\n",
    "\n",
    "# cluster 1\n",
    "# create dataset\n",
    "data2 = sw_pd.loc[sw_pd['grupo'] == 1].sort_values(by=['silhueta'])\n",
    "height2 = data2['silhueta']\n",
    "bars2 = data2['id_registro']\n",
    "y_pos2 = np.arange(len(bars2))\n",
    "# Create horizontal bars\n",
    "axis[1].set_title('cluster 1', fontsize=4)\n",
    "axis[1].axis(xmin=-1,xmax=1)\n",
    "axis[1].barh(y_pos2, height2)\n",
    "axis[1].plot()\n",
    "\n",
    "# cluster 2\n",
    "# create dataset\n",
    "data3 = sw_pd.loc[sw_pd['grupo'] == 2].sort_values(by=['silhueta'])\n",
    "height3 = data3['silhueta']\n",
    "bars3 = data3['id_registro']\n",
    "y_pos3 = np.arange(len(bars3))\n",
    "# Create horizontal bars\n",
    "axis[2].set_title('cluster 2', fontsize=4)\n",
    "axis[2].axis(xmin=-1,xmax=1)\n",
    "axis[2].barh(y_pos3, height3)\n",
    "axis[2].plot()\n",
    "\n",
    "# Show graphic\n",
    "plt.show()"
   ]
  },
  {
   "cell_type": "code",
   "execution_count": null,
   "metadata": {
    "id": "zcnr1kSUELvI"
   },
   "outputs": [],
   "source": [
    "# Como podemos melhorar o resultado do rand_score?\n",
    "# Qual seria a aplicação da silhueta?"
   ]
  },
  {
   "cell_type": "code",
   "execution_count": null,
   "metadata": {
    "id": "Pw6pz0wfRzrk"
   },
   "outputs": [],
   "source": []
  },
  {
   "cell_type": "code",
   "execution_count": null,
   "metadata": {
    "id": "u-0CQluPRzo8"
   },
   "outputs": [],
   "source": []
  },
  {
   "cell_type": "code",
   "execution_count": null,
   "metadata": {
    "id": "vYPeiC3DRzlH"
   },
   "outputs": [],
   "source": []
  },
  {
   "cell_type": "code",
   "execution_count": null,
   "metadata": {
    "id": "cZKoXWMTRzh9"
   },
   "outputs": [],
   "source": []
  },
  {
   "cell_type": "code",
   "execution_count": null,
   "metadata": {
    "id": "leuwKtu4RzfA"
   },
   "outputs": [],
   "source": []
  },
  {
   "cell_type": "code",
   "execution_count": null,
   "metadata": {
    "id": "XjoQLBAgRzb4"
   },
   "outputs": [],
   "source": []
  },
  {
   "cell_type": "code",
   "execution_count": null,
   "metadata": {
    "id": "XdFd2tpORzYt"
   },
   "outputs": [],
   "source": []
  },
  {
   "cell_type": "code",
   "execution_count": null,
   "metadata": {
    "id": "LjZtSpHWRzUn"
   },
   "outputs": [],
   "source": []
  },
  {
   "cell_type": "code",
   "execution_count": null,
   "metadata": {
    "id": "V5hQKLiwRzQW"
   },
   "outputs": [],
   "source": []
  },
  {
   "cell_type": "code",
   "execution_count": null,
   "metadata": {
    "id": "Js-ld7CzRzK8"
   },
   "outputs": [],
   "source": []
  },
  {
   "cell_type": "markdown",
   "metadata": {
    "id": "umhORhyDWt-d"
   },
   "source": [
    "# Exemplo de Silhueta em K-means"
   ]
  },
  {
   "cell_type": "code",
   "execution_count": null,
   "metadata": {
    "id": "t3mkQvB0Eyj0"
   },
   "outputs": [],
   "source": [
    "from sklearn import datasets\n",
    "from sklearn.cluster import KMeans\n",
    "from sklearn.metrics import silhouette_score\n",
    "import matplotlib.pyplot as plt\n",
    "#\n",
    "# Load IRIS dataset\n",
    "#\n",
    "iris = datasets.load_iris()\n",
    "X = iris.data\n",
    "y = iris.target\n",
    "#\n",
    "# Instantiate the KMeans models\n",
    "#\n",
    "km = KMeans(n_clusters=3, random_state=42)\n",
    "#\n",
    "# Fit the KMeans model\n",
    "#\n",
    "km.fit_predict(X)\n",
    "#\n",
    "# Calculate Silhoutte Score\n",
    "#\n",
    "score = silhouette_score(X, km.labels_, metric='euclidean')\n",
    "#\n",
    "# Print the score\n",
    "#\n",
    "print('Silhouetter Score: %.3f' % score)"
   ]
  },
  {
   "cell_type": "code",
   "execution_count": null,
   "metadata": {
    "id": "j_jaqG4vEyhF"
   },
   "outputs": [],
   "source": [
    "# from yellowbrick.cluster import SilhouetteVisualizer\n",
    "\n",
    "# fig, ax = plt.subplots(2, 2, figsize=(15,8))\n",
    "# for i in [2, 3, 4, 5]:\n",
    "#     '''\n",
    "#     Create KMeans instance for different number of clusters\n",
    "#     '''\n",
    "#     km = KMeans(n_clusters=i, init='k-means++', n_init=10, max_iter=100, random_state=42)\n",
    "#     q, mod = divmod(i, 2)\n",
    "#     '''\n",
    "#     Create SilhouetteVisualizer instance with KMeans instance\n",
    "#     Fit the visualizer\n",
    "#     '''\n",
    "#     visualizer = SilhouetteVisualizer(km, colors='yellowbrick', ax=ax[q-1][mod])\n",
    "#     visualizer.fit(X)"
   ]
  },
  {
   "cell_type": "code",
   "execution_count": null,
   "metadata": {
    "id": "gcbme4vvEyeG"
   },
   "outputs": [],
   "source": [
    "km"
   ]
  },
  {
   "cell_type": "code",
   "execution_count": null,
   "metadata": {
    "id": "kDy4z3lwEyYa"
   },
   "outputs": [],
   "source": [
    "SilhouetteVisualizer?"
   ]
  },
  {
   "cell_type": "code",
   "execution_count": null,
   "metadata": {
    "id": "NL103onqEyPW"
   },
   "outputs": [],
   "source": [
    "\n"
   ]
  },
  {
   "cell_type": "code",
   "execution_count": null,
   "metadata": {
    "id": "7Z6QiiiOj1Qm"
   },
   "outputs": [],
   "source": []
  }
 ],
 "metadata": {
  "colab": {
   "collapsed_sections": [
    "16NzIswwDUtJ",
    "vzW0wV8tDa5k",
    "kbl5rbYcDp3E",
    "d1iP1LFnDeBE",
    "hepxO5IlDmwg",
    "JaAVSL4AFctw",
    "pJCD4ac378d-",
    "pZTEwUqv8Bj-",
    "umhORhyDWt-d"
   ],
   "provenance": []
  },
  "kernelspec": {
   "display_name": "Python 3 (ipykernel)",
   "language": "python",
   "name": "python3"
  },
  "language_info": {
   "codemirror_mode": {
    "name": "ipython",
    "version": 3
   },
   "file_extension": ".py",
   "mimetype": "text/x-python",
   "name": "python",
   "nbconvert_exporter": "python",
   "pygments_lexer": "ipython3",
   "version": "3.11.7"
  }
 },
 "nbformat": 4,
 "nbformat_minor": 4
}
